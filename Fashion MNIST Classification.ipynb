{
 "cells": [
  {
   "cell_type": "code",
   "execution_count": 16,
   "id": "17b76331",
   "metadata": {},
   "outputs": [],
   "source": [
    "# Imports\n",
    "\n",
    "import pandas as pd\n",
    "import numpy as np\n",
    "import torch\n",
    "from torch import nn\n",
    "\n",
    "# Working with Datasets\n",
    "\n",
    "from torch.utils.data import DataLoader\n",
    "from torch.utils.data import Dataset\n",
    "\n",
    "# XZ\n",
    "import os\n",
    "import pandas as pd\n",
    "from torchvision.io import read_image\n",
    "\n",
    "# Datasets\n",
    "\n",
    "from torchvision.datasets import FashionMNIST\n",
    "from torchvision.transforms import Resize\n",
    "\n",
    "# Visualisation\n",
    "\n",
    "import matplotlib.pyplot as plt\n",
    "from matplotlib.pyplot import imshow\n",
    "import torchvision.transforms as T\n",
    "from torchvision.utils import draw_bounding_boxes\n",
    "from IPython.display import clear_output"
   ]
  },
  {
   "cell_type": "code",
   "execution_count": 17,
   "id": "d41e4dd3",
   "metadata": {},
   "outputs": [],
   "source": [
    "def timofey_transform(digit: int):\n",
    "    arr = np.zeros(10)\n",
    "    arr[digit] = 1\n",
    "    arr = torch.tensor(arr, dtype = torch.long, requires_grad=False)\n",
    "    return arr\n",
    "\n",
    "# download dataset\n",
    "\n",
    "to_tensor = T.ToTensor()\n",
    "\n",
    "dataset_train = FashionMNIST(\"https://github.com/zalandoresearch/fashion-mnist\",train = True, download = True,\n",
    "                            transform = to_tensor)\n",
    "dataset_test = FashionMNIST(\"https://github.com/zalandoresearch/fashion-mnist\",train = False, download = True,\n",
    "                           transform = to_tensor)"
   ]
  },
  {
   "cell_type": "markdown",
   "id": "a484ac2f",
   "metadata": {},
   "source": [
    "# Подготовимся к BatchNormalization"
   ]
  },
  {
   "cell_type": "code",
   "execution_count": 18,
   "id": "dc03dc0e",
   "metadata": {},
   "outputs": [],
   "source": [
    "mu = dataset_train.data.to(torch.float32).mean().item() / 255\n",
    "\n",
    "std = dataset_train.data.to(torch.float32).std().item() / 255\n",
    "\n",
    "normalize = T.Normalize(mu,std)"
   ]
  },
  {
   "cell_type": "code",
   "execution_count": 19,
   "id": "c9e92ff3",
   "metadata": {},
   "outputs": [],
   "source": [
    "flow = T.Compose([to_tensor,normalize])\n",
    "\n",
    "dataset_train = FashionMNIST(\"https://github.com/zalandoresearch/fashion-mnist\",train = True, download = True,\n",
    "                            transform = flow)\n",
    "dataset_test = FashionMNIST(\"https://github.com/zalandoresearch/fashion-mnist\",train = False, download = True,\n",
    "                           transform = flow)"
   ]
  },
  {
   "cell_type": "code",
   "execution_count": 20,
   "id": "79f5b9fa",
   "metadata": {},
   "outputs": [
    {
     "data": {
      "image/png": "[encoded data removed]",
      "text/plain": [
       "<PIL.Image.Image image mode=L size=250x250>"
      ]
     },
     "execution_count": 20,
     "metadata": {},
     "output_type": "execute_result"
    }
   ],
   "source": [
    "to_pil = T.ToPILImage()\n",
    "#print(dataset_test[0][1])\n",
    "resize = Resize([250,250])\n",
    "to_pil(resize(dataset_test[0][0]))"
   ]
  },
  {
   "cell_type": "code",
   "execution_count": 21,
   "id": "d746eb42",
   "metadata": {},
   "outputs": [],
   "source": [
    "idx2text = {0: \"T-shirt/top\",\n",
    " 1: \"Trouser\",\n",
    " 2: \"Pullover\",\n",
    " 3: \"Dress\",\n",
    " 4: \"Coat\",\n",
    " 5: \"Sandal\",\n",
    " 6: \"Shirt\",\n",
    " 7: \"Sneaker\",\n",
    " 8: \"Bag\",\n",
    " 9: \"Ankle boot\"}"
   ]
  },
  {
   "cell_type": "markdown",
   "id": "d9c4a9bb",
   "metadata": {},
   "source": [
    "# Создадим DataLoaders"
   ]
  },
  {
   "cell_type": "code",
   "execution_count": 22,
   "id": "0931062a",
   "metadata": {},
   "outputs": [],
   "source": [
    "train_dataloader = DataLoader(dataset_train,batch_size = 8,shuffle = True, num_workers = 4)\n",
    "test_dataloader = DataLoader(dataset_test,batch_size = 8,shuffle = True, num_workers = 4)"
   ]
  },
  {
   "cell_type": "code",
   "execution_count": 23,
   "id": "202c278c",
   "metadata": {},
   "outputs": [],
   "source": [
    "# Lets check into pic size\n",
    "x_s, y_s = next(iter(train_dataloader))"
   ]
  },
  {
   "cell_type": "markdown",
   "id": "2641fa9e",
   "metadata": {},
   "source": [
    "# Опредялем Device"
   ]
  },
  {
   "cell_type": "code",
   "execution_count": 24,
   "id": "984a941f",
   "metadata": {},
   "outputs": [],
   "source": [
    "device = torch.device(\"cuda\" if torch.cuda.is_available() else \"cpu\")"
   ]
  },
  {
   "cell_type": "markdown",
   "id": "aa1966d2",
   "metadata": {},
   "source": [
    "# Созданим арихитектуру сети"
   ]
  },
  {
   "cell_type": "code",
   "execution_count": 27,
   "id": "7fd561d4",
   "metadata": {},
   "outputs": [],
   "source": [
    "# Imports\n",
    "from torch import nn\n",
    "\n",
    "class Model_1(nn.Module):\n",
    "    def __init__(self):\n",
    "        super().__init__()\n",
    "        \n",
    "        # 1 x 28 x 28\n",
    "        \n",
    "        self.step_1 = nn.Sequential(\n",
    "            nn.Conv2d(in_channels = 1, out_channels = 10, kernel_size = 3, padding = 1), # 10 x 28 x 28\n",
    "            nn.ReLU(),\n",
    "            nn.MaxPool2d(2)) # 10 x 14 x 14\n",
    "            \n",
    "        self.step_2 = nn.Sequential(\n",
    "            nn.Conv2d(in_channels = 10, out_channels = 32, kernel_size = 3, padding = 1), # 32 x 14 x 14\n",
    "            nn.ReLU(),\n",
    "            nn.MaxPool2d(2)) # 32 x 8 x 8\n",
    "            \n",
    "        self.step_3 = nn.Sequential(\n",
    "            nn.Conv2d(in_channels = 32, out_channels = 16, kernel_size = 3, padding = 1), # 16 x 8 x 8\n",
    "            nn.ReLU())\n",
    "        \n",
    "        self.step_4 = nn.Sequential(\n",
    "            nn.Flatten()) # 16 x 7 x 7\n",
    "            \n",
    "        self.step_5 = nn.Sequential(\n",
    "            nn.Linear(784,300),\n",
    "            nn.ReLU(),\n",
    "            nn.Linear(300, 128),\n",
    "            nn.ReLU(),\n",
    "            nn.Linear(128, 16),\n",
    "            nn.ReLU(),\n",
    "            nn.Linear(16, 10),\n",
    "            nn.Sigmoid()\n",
    "        )\n",
    "\n",
    "    def forward(self, x):\n",
    "        output = self.step_1(x)\n",
    "        output = self.step_2(output)\n",
    "        output = self.step_3(output)\n",
    "        output = self.step_4(output)\n",
    "        output = self.step_5(output)\n",
    "        \n",
    "        return output"
   ]
  },
  {
   "cell_type": "code",
   "execution_count": 29,
   "id": "cb621e51",
   "metadata": {},
   "outputs": [],
   "source": [
    "class Model_2(nn.Module):\n",
    "    def __init__(self):\n",
    "        super().__init__()\n",
    "        \n",
    "        # 1 x 28 x 28\n",
    "        \n",
    "        self.step_1 = nn.Sequential(\n",
    "            nn.Conv2d(in_channels = 1, out_channels = 10, kernel_size = 3, padding = 1), # 10 x 28 x 28\n",
    "            nn.BatchNorm2d(10),\n",
    "            nn.ReLU(),\n",
    "            nn.MaxPool2d(2),\n",
    "            nn.Dropout2d(p=0.2)) # 10 x 14 x 14\n",
    "            \n",
    "        self.step_2 = nn.Sequential(\n",
    "            nn.Conv2d(in_channels = 10, out_channels = 32, kernel_size = 3, padding = 1), # 32 x 14 x 14\n",
    "            nn.BatchNorm2d(32),\n",
    "            nn.ReLU(),\n",
    "            nn.MaxPool2d(2),\n",
    "            nn.Dropout2d(p=0.2)) # 32 x 7 x 7\n",
    "            \n",
    "        self.step_5 = nn.Sequential(\n",
    "            nn.Flatten(),\n",
    "            nn.BatchNorm1d(1568),\n",
    "            nn.Linear(1568,10))\n",
    "        \n",
    "    def forward(self, x):\n",
    "        output = self.step_1(x)\n",
    "        output = self.step_2(output)\n",
    "        output = self.step_5(output)\n",
    "        \n",
    "        return output"
   ]
  },
  {
   "cell_type": "code",
   "execution_count": 30,
   "id": "386e8fbd",
   "metadata": {},
   "outputs": [
    {
     "data": {
      "text/plain": [
       "Model_2(\n",
       "  (step_1): Sequential(\n",
       "    (0): Conv2d(1, 10, kernel_size=(3, 3), stride=(1, 1), padding=(1, 1))\n",
       "    (1): BatchNorm2d(10, eps=1e-05, momentum=0.1, affine=True, track_running_stats=True)\n",
       "    (2): ReLU()\n",
       "    (3): MaxPool2d(kernel_size=2, stride=2, padding=0, dilation=1, ceil_mode=False)\n",
       "    (4): Dropout2d(p=0.2, inplace=False)\n",
       "  )\n",
       "  (step_2): Sequential(\n",
       "    (0): Conv2d(10, 32, kernel_size=(3, 3), stride=(1, 1), padding=(1, 1))\n",
       "    (1): BatchNorm2d(32, eps=1e-05, momentum=0.1, affine=True, track_running_stats=True)\n",
       "    (2): ReLU()\n",
       "    (3): MaxPool2d(kernel_size=2, stride=2, padding=0, dilation=1, ceil_mode=False)\n",
       "    (4): Dropout2d(p=0.2, inplace=False)\n",
       "  )\n",
       "  (step_5): Sequential(\n",
       "    (0): Flatten(start_dim=1, end_dim=-1)\n",
       "    (1): BatchNorm1d(1568, eps=1e-05, momentum=0.1, affine=True, track_running_stats=True)\n",
       "    (2): Linear(in_features=1568, out_features=10, bias=True)\n",
       "  )\n",
       ")"
      ]
     },
     "execution_count": 30,
     "metadata": {},
     "output_type": "execute_result"
    }
   ],
   "source": [
    "model = Model_2()\n",
    "model.to(device)"
   ]
  },
  {
   "cell_type": "code",
   "execution_count": 31,
   "id": "dac816b7",
   "metadata": {},
   "outputs": [],
   "source": [
    "from torch.optim import Adam\n",
    "from tqdm import tqdm\n",
    "\n",
    "optimizer = Adam(params = model.parameters(), lr = 1e-2)\n",
    "loss_fn = nn.CrossEntropyLoss()"
   ]
  },
  {
   "cell_type": "code",
   "execution_count": 32,
   "id": "81be01b6",
   "metadata": {},
   "outputs": [
    {
     "name": "stderr",
     "output_type": "stream",
     "text": [
      "Training:   0%| | 0/7500/opt/anaconda3/lib/python3.9/site-packages/torch/_tensor.py:775: UserWarning: non-inplace resize is deprecated\n",
      "  warnings.warn(\"non-inplace resize is deprecated\")\n",
      "Training:   0%| | 0/7500\n"
     ]
    }
   ],
   "source": [
    "def train_to_derive_input_output(model):\n",
    "    model.train()\n",
    "    \n",
    "    for x,y in tqdm(train_dataloader,desc = \"Training\"):\n",
    "        \n",
    "        x.to(device)\n",
    "        y.to(device)\n",
    "        x = x.to(torch.float32)\n",
    "        y = y.to(torch.float32)\n",
    "        y = y.resize(8,1)\n",
    "        \n",
    "        \n",
    "        optimizer.zero_grad()\n",
    "        \n",
    "        output = model.forward(x) # res: torch.tensor.size(9)\n",
    "        \n",
    "        predicted_classes = output\n",
    "        \n",
    "        return x,y,output\n",
    "    \n",
    "x_s,y_s,output_s = train_to_derive_input_output(model)\n",
    "\n",
    "def train(model):\n",
    "    model.train()\n",
    "    \n",
    "    loss_per_epoch = []\n",
    "    total_obj = 0\n",
    "    total_correct = 0\n",
    "    \n",
    "    for x,y in tqdm(train_dataloader,desc = \"Training\"):\n",
    "        \n",
    "        x.to(device)\n",
    "        y.to(device)\n",
    "        x = x.to(torch.float32)\n",
    "        y = y.to(torch.long)\n",
    "        \n",
    "        optimizer.zero_grad()\n",
    "        \n",
    "        output = model.forward(x) # res: torch.tensor.size(9)\n",
    "        \n",
    "        predicted_classes = torch.argmax(output, dim = 1)\n",
    "        \n",
    "        # return x,y,output\n",
    "        \n",
    "        # predicted_classes = torch.max(output,dim = 1)\n",
    "        # predicted_classes = predicted_classes.to(torch.float32)\n",
    "        \n",
    "        # print(y.size(),output.size())\n",
    "    \n",
    "        loss = loss_fn(output,y)\n",
    "        loss_ = loss.item()\n",
    "        loss.backward()\n",
    "        optimizer.step()\n",
    "        loss_per_epoch.append(loss_)\n",
    "        \n",
    "        n_obj = len(y)\n",
    "        n_correct = sum(predicted_classes == y)\n",
    "        \n",
    "        total_obj += n_obj\n",
    "        total_correct += n_correct\n",
    "        \n",
    "    \n",
    "    accuracy = total_correct / total_obj\n",
    "    \n",
    "    return loss_per_epoch,accuracy\n",
    "\n",
    "#_,_,_ = train(model)"
   ]
  },
  {
   "cell_type": "code",
   "execution_count": 628,
   "id": "9d94e698",
   "metadata": {
    "scrolled": true
   },
   "outputs": [
    {
     "name": "stderr",
     "output_type": "stream",
     "text": [
      "Training:   0%|                                        | 0/7500 [00:02<?, ?it/s]\n"
     ]
    }
   ],
   "source": [
    "x_s,y_s,ouput_s = train_to_derive_input_output(model)"
   ]
  },
  {
   "cell_type": "code",
   "execution_count": 33,
   "id": "fab7ba6b",
   "metadata": {
    "scrolled": true
   },
   "outputs": [
    {
     "name": "stderr",
     "output_type": "stream",
     "text": [
      "Training: 100%|█| 7500/7\n"
     ]
    }
   ],
   "source": [
    "a,b = train(model)"
   ]
  },
  {
   "cell_type": "code",
   "execution_count": 34,
   "id": "9cf6c339",
   "metadata": {},
   "outputs": [
    {
     "name": "stderr",
     "output_type": "stream",
     "text": [
      "Training: 100%|█| 7500/7\n",
      "Training: 100%|█| 7500/7\n",
      "Training: 100%|█| 7500/7\n",
      "Training: 100%|█| 7500/7\n",
      "Training: 100%|█| 7500/7\n",
      "Training: 100%|█| 7500/7\n"
     ]
    }
   ],
   "source": [
    "ll = []\n",
    "acc = []\n",
    "for epoch in range(6):\n",
    "    a,b = train(model)\n",
    "    a = sum(a)/ len(a)\n",
    "    ll.append(a)\n",
    "    acc.append(b)"
   ]
  },
  {
   "cell_type": "code",
   "execution_count": 35,
   "id": "04e141a6",
   "metadata": {},
   "outputs": [
    {
     "data": {
      "text/plain": [
       "[tensor(0.7505),\n",
       " tensor(0.7540),\n",
       " tensor(0.7603),\n",
       " tensor(0.7678),\n",
       " tensor(0.7671),\n",
       " tensor(0.7694)]"
      ]
     },
     "execution_count": 35,
     "metadata": {},
     "output_type": "execute_result"
    }
   ],
   "source": [
    "acc"
   ]
  },
  {
   "cell_type": "code",
   "execution_count": 75,
   "id": "3a91dd93",
   "metadata": {},
   "outputs": [],
   "source": [
    "def beautiful_evaluation(model):\n",
    "    model.eval()\n",
    "    y_true = []\n",
    "    y_predicted = []\n",
    "    uu = 0\n",
    "    while uu <= 10:\n",
    "        for x,y in tqdm(test_dataloader, desc = \"Evaluation\"):\n",
    "            uu+= 1\n",
    "            x.to(device)\n",
    "            y.to(device)\n",
    "            x = x.to(torch.float32)\n",
    "            y = y.to(torch.long)\n",
    "\n",
    "            output = model(x)\n",
    "            predicted_classes = torch.argmax(output, dim = 1)\n",
    "            \n",
    "            y_true += [*y.tolist()]\n",
    "            y_predicted += [*predicted_classes.tolist()]\n",
    "            \n",
    "    return y_true,y_predicted\n",
    "            "
   ]
  },
  {
   "cell_type": "code",
   "execution_count": 76,
   "id": "520ddeca",
   "metadata": {},
   "outputs": [
    {
     "name": "stderr",
     "output_type": "stream",
     "text": [
      "Evaluation: 100%|█| 1250\n"
     ]
    }
   ],
   "source": [
    "y_true,y_predicted = beautiful_evaluation(model)"
   ]
  },
  {
   "cell_type": "code",
   "execution_count": 78,
   "id": "6fbd49c8",
   "metadata": {},
   "outputs": [
    {
     "name": "stdout",
     "output_type": "stream",
     "text": [
      "              precision    recall  f1-score   support\n",
      "\n",
      "           0       0.91      0.62      0.74      1000\n",
      "           1       0.96      0.98      0.97      1000\n",
      "           2       0.74      0.75      0.75      1000\n",
      "           3       0.84      0.84      0.84      1000\n",
      "           4       0.60      0.90      0.72      1000\n",
      "           5       0.97      0.95      0.96      1000\n",
      "           6       0.63      0.48      0.54      1000\n",
      "           7       0.88      0.98      0.93      1000\n",
      "           8       0.95      0.95      0.95      1000\n",
      "           9       0.98      0.91      0.94      1000\n",
      "\n",
      "    accuracy                           0.83     10000\n",
      "   macro avg       0.84      0.83      0.83     10000\n",
      "weighted avg       0.84      0.83      0.83     10000\n",
      "\n"
     ]
    }
   ],
   "source": [
    "from sklearn.metrics import classification_report\n",
    "print(classification_report(y_true,y_predicted))"
   ]
  },
  {
   "cell_type": "code",
   "execution_count": 79,
   "id": "544d0c6b",
   "metadata": {},
   "outputs": [
    {
     "data": {
      "text/plain": [
       "Text(0.5, 23.52222222222222, 'Model output')"
      ]
     },
     "execution_count": 79,
     "metadata": {},
     "output_type": "execute_result"
    },
    {
     "data": {
      "image/png": "[encoded data removed]",
      "text/plain": [
       "<Figure size 640x480 with 2 Axes>"
      ]
     },
     "metadata": {},
     "output_type": "display_data"
    }
   ],
   "source": [
    "from sklearn.metrics import confusion_matrix\n",
    "import seaborn as sns\n",
    "\n",
    "sns.heatmap(confusion_matrix(y_true,y_predicted), annot = True, fmt = '')\n",
    "plt.ylabel(\"Real\")\n",
    "plt.xlabel(\"Model output\")"
   ]
  }
 ],
 "metadata": {
  "kernelspec": {
   "display_name": "Python 3 (ipykernel)",
   "language": "python",
   "name": "python3"
  },
  "language_info": {
   "codemirror_mode": {
    "name": "ipython",
    "version": 3
   },
   "file_extension": ".py",
   "mimetype": "text/x-python",
   "name": "python",
   "nbconvert_exporter": "python",
   "pygments_lexer": "ipython3",
   "version": "3.9.13"
  }
 },
 "nbformat": 4,
 "nbformat_minor": 5
}
